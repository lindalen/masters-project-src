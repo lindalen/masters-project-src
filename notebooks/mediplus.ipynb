{
 "cells": [
  {
   "cell_type": "code",
   "execution_count": 1,
   "id": "1423e151",
   "metadata": {},
   "outputs": [
    {
     "name": "stderr",
     "output_type": "stream",
     "text": [
      "[nltk_data] Downloading package punkt to\n",
      "[nltk_data]     C:\\Users\\dlind\\AppData\\Roaming\\nltk_data...\n",
      "[nltk_data]   Package punkt is already up-to-date!\n"
     ]
    },
    {
     "data": {
      "text/plain": [
       "True"
      ]
     },
     "execution_count": 1,
     "metadata": {},
     "output_type": "execute_result"
    }
   ],
   "source": [
    "import os\n",
    "from pinecone import Pinecone, ServerlessSpec\n",
    "from mistralai.client import MistralClient\n",
    "from dotenv import load_dotenv, find_dotenv\n",
    "import html2text\n",
    "import xml.etree.ElementTree as ET\n",
    "import requests\n",
    "import itertools\n",
    "import nltk\n",
    "nltk.download('punkt')"
   ]
  },
  {
   "cell_type": "code",
   "execution_count": 2,
   "id": "e925774d",
   "metadata": {},
   "outputs": [],
   "source": [
    "load_dotenv(find_dotenv())\n",
    "pc_api_key = os.getenv(\"PINECONE_API_KEY\")\n",
    "ms_api_key = os.getenv(\"MISTRAL_API_KEY\")"
   ]
  },
  {
   "cell_type": "code",
   "execution_count": 3,
   "id": "f50dc16a",
   "metadata": {},
   "outputs": [],
   "source": [
    "pc = Pinecone(api_key=pc_api_key)\n",
    "mistral_client = MistralClient(api_key=ms_api_key)"
   ]
  },
  {
   "attachments": {},
   "cell_type": "markdown",
   "id": "d8eb1475",
   "metadata": {},
   "source": [
    "### Fetching the XML file"
   ]
  },
  {
   "cell_type": "code",
   "execution_count": 4,
   "id": "56997ec5",
   "metadata": {},
   "outputs": [
    {
     "data": {
      "text/plain": [
       "True"
      ]
     },
     "execution_count": 4,
     "metadata": {},
     "output_type": "execute_result"
    }
   ],
   "source": [
    "def download_xml(url, path):\n",
    "    try:\n",
    "        response = requests.get(url)\n",
    "        response.raise_for_status()\n",
    "        with open(path, 'w', encoding='utf-8') as file:\n",
    "            file.write(response.text)\n",
    "        return True\n",
    "    except requests.RequestException:\n",
    "        return False\n",
    "\n",
    "XML_PATH = \"medlineplus.xml\"\n",
    "xml_url = 'https://medlineplus.gov/xml/mplus_topics_2024-03-30.xml'\n",
    "download_xml(xml_url, XML_PATH)\n"
   ]
  },
  {
   "cell_type": "code",
   "execution_count": 5,
   "id": "62c5bae9",
   "metadata": {},
   "outputs": [],
   "source": [
    "def html_to_markdown(html_content):\n",
    "    h = html2text.HTML2Text()\n",
    "    h.ignore_links = True\n",
    "    return h.handle(html_content)"
   ]
  },
  {
   "cell_type": "code",
   "execution_count": 6,
   "id": "c0ff0708",
   "metadata": {},
   "outputs": [],
   "source": [
    "def mediplus_xml_to_dicts(xml_path):\n",
    "    tree = ET.parse(xml_path)\n",
    "    root = tree.getroot()\n",
    "    themes = []\n",
    "    \n",
    "    for health_topic in root.iter('health-topic'):\n",
    "        if health_topic.get('language') != 'English':\n",
    "            continue\n",
    "        \n",
    "        title = health_topic.get('title')\n",
    "        summary = \"\".join(health_topic.find('full-summary').itertext()) if health_topic.find('full-summary') is not None else 'No summary available'\n",
    "        \n",
    "        alternate_names = [also_called.text for also_called in health_topic.findall('also-called')]\n",
    "        \n",
    "        groups = [group.text for group in health_topic.findall('group')]\n",
    "        \n",
    "        related_topics = [related_topic.text for related_topic in health_topic.findall('related-topic')]\n",
    "        \n",
    "        health_topic_data = {\n",
    "            \"Title\": title,\n",
    "            \"Summary\": html_to_markdown(summary),\n",
    "            \"Alternate Names\": alternate_names or ['None'],\n",
    "            \"Groups\": groups or ['None'],\n",
    "            \"Related Topics\": related_topics or ['None']\n",
    "        }\n",
    "        \n",
    "        themes.append(health_topic_data)\n",
    "    \n",
    "    return themes"
   ]
  },
  {
   "cell_type": "code",
   "execution_count": 7,
   "id": "ee55652e",
   "metadata": {},
   "outputs": [],
   "source": [
    "mediplus_dicts = mediplus_xml_to_dicts(XML_PATH)"
   ]
  },
  {
   "cell_type": "code",
   "execution_count": 8,
   "id": "f45b2573",
   "metadata": {},
   "outputs": [
    {
     "data": {
      "text/plain": [
       "[Document(page_content='### What is HPV?\\n\\nHuman papillomavirus (HPV) is a group of related viruses. They can cause warts\\non different parts of your body. There are more than 200 types. About 40 of\\nthem are spread through direct sexual contact with someone who has the virus.\\nThey can also spread through other intimate, skin-to-skin contact. Some of\\nthese types can cause cancer.'),\n",
       " Document(page_content='There are two categories of sexually transmitted HPV. Low-risk HPV can cause\\nwarts on or around your genitals, anus, mouth, or throat. High-risk HPV can\\ncause various cancers:\\n\\n  * Cervical cancer\\n  * Anal cancer\\n  * Some types of oral and throat cancer\\n  * Vulvar cancer\\n  * Vaginal cancer\\n  * Penile cancer'),\n",
       " Document(page_content=\"Most HPV infections go away on their own and don't cause cancer. But sometimes\\nthe infections last longer. When a high-risk HPV infection lasts for many\\nyears, it can lead to cell changes. If these changes are not treated, they may\\nget worse over time and become cancer.\\n\\n### Who is at risk for HPV infections?\\n\\nHPV infections are very common. Nearly all sexually active people are infected\\nwith HPV soon after they become sexually active.\\n\\n### What are the symptoms of HPV infections?\"),\n",
       " Document(page_content='### What are the symptoms of HPV infections?\\n\\nSome people develop warts from certain low-risk HPV infections, but the other\\ntypes (including the high-risk types) have no symptoms.\\n\\nIf a high-risk HPV infection lasts for many years and causes cell changes, you\\nmay have symptoms. You may also have symptoms if those cell changes develop\\ninto cancer. Which symptoms you have depends on which part of the body is\\naffected.\\n\\n### How are HPV infections diagnosed?'),\n",
       " Document(page_content='### How are HPV infections diagnosed?\\n\\nHealth care providers can usually diagnose warts by looking at them.\\n\\nFor women, there are cervical cancer screening tests which can find changes in\\nthe cervix that might lead to cancer. As part of the screening, women may have\\nPap tests, HPV tests , or both.\\n\\n### What are the treatments for HPV infections?'),\n",
       " Document(page_content=\"### What are the treatments for HPV infections?\\n\\nAn HPV infection itself cannot be treated. There are medicines that you can\\napply to a wart. If they don't work, your health care provide could freeze,\\nburn, or surgically remove it.\\n\\nThere are treatments for the cell changes caused by infection with high-risk\\nHPV. They include medicines that you apply to the area that is affected and\\nvarious surgical procedures.\"),\n",
       " Document(page_content='People who have HPV-related cancers usually get the same types of treatment as\\npeople who have cancers that are not caused by HPV. An exception to this is\\nfor people who have certain oral and throat cancers. They may have different\\ntreatment options.\\n\\n### Can HPV infections be prevented?'),\n",
       " Document(page_content='### Can HPV infections be prevented?\\n\\nCorrect usage of latex condoms greatly reduces, but does not completely\\neliminate, the risk of catching or spreading HPV. If your or your partner is\\nallergic to latex, you can use polyurethane condoms. The most reliable way to\\navoid infection is to not have anal, vaginal, or oral sex.'),\n",
       " Document(page_content='Vaccines can protect against several types of HPV, including some that can\\ncause cancer. The vaccines provide the most protection when people get them\\nbefore they are exposed to the virus. This means that it is best for people to\\nget them before they become sexually active.\\n\\nNIH: National Cancer Institute')]"
      ]
     },
     "execution_count": 8,
     "metadata": {},
     "output_type": "execute_result"
    }
   ],
   "source": [
    "from langchain.text_splitter import MarkdownTextSplitter\n",
    "\n",
    "markdown_splitter = MarkdownTextSplitter(chunk_size=512, chunk_overlap=64)\n",
    "docs = markdown_splitter.create_documents([mediplus_dicts[510][\"Summary\"]])\n",
    "docs"
   ]
  },
  {
   "cell_type": "code",
   "execution_count": 9,
   "id": "d186abe2",
   "metadata": {},
   "outputs": [],
   "source": [
    "from langchain.text_splitter import MarkdownTextSplitter\n",
    "\n",
    "markdown_splitter = MarkdownTextSplitter(chunk_size=512, chunk_overlap=64)\n",
    "\n",
    "def split_and_retain_metadata(documents, text_key=\"Summary\"):\n",
    "    def chunk_document(doc):\n",
    "        return [\n",
    "            {**doc, text_key: chunk.page_content, \"Chunk Index\": i}\n",
    "            for i, chunk in enumerate(markdown_splitter.create_documents([doc[text_key]]))\n",
    "        ]\n",
    "\n",
    "    return [chunked_doc for doc in documents for chunked_doc in chunk_document(doc)]\n",
    "\n",
    "chunked_mediplus_docs = split_and_retain_metadata(mediplus_dicts)"
   ]
  },
  {
   "attachments": {},
   "cell_type": "markdown",
   "id": "bedab563",
   "metadata": {},
   "source": [
    "### Initializing the index"
   ]
  },
  {
   "cell_type": "code",
   "execution_count": 10,
   "id": "fb6411e0",
   "metadata": {},
   "outputs": [],
   "source": [
    "def create_index(index_name, dimension):\n",
    "    if index_name in pc.list_indexes().names():\n",
    "        pc.delete_index(index_name)\n",
    "\n",
    "    # create a new index\n",
    "    pc.create_index(\n",
    "        index_name,\n",
    "        dimension=dimension,  \n",
    "        metric='cosine',\n",
    "        spec=ServerlessSpec(\n",
    "            cloud='aws', \n",
    "            region='us-west-2'\n",
    "        ) \n",
    "    )\n",
    "\n",
    "    index = pc.Index(index_name)\n",
    "    index.describe_index_stats()"
   ]
  },
  {
   "cell_type": "code",
   "execution_count": 11,
   "id": "fb474b6d",
   "metadata": {},
   "outputs": [],
   "source": [
    "INDEX_NAME = \"mediplus-corpus\"\n",
    "create_index(INDEX_NAME, 1024)"
   ]
  },
  {
   "attachments": {},
   "cell_type": "markdown",
   "id": "a1e261c8",
   "metadata": {},
   "source": [
    "### Embedding the mediplus articles"
   ]
  },
  {
   "cell_type": "code",
   "execution_count": 12,
   "id": "f73e4ddd",
   "metadata": {},
   "outputs": [],
   "source": [
    "def batch_embed_mistral(texts, model=\"mistral-embed\", batch_size=50):\n",
    "    for i in range(0, len(texts), batch_size):\n",
    "        batch_texts = [text.replace(\"\\n\", \" \") for text in texts[i:i + batch_size]]\n",
    "        \n",
    "        embeddings_batch_response = mistral_client.embeddings(\n",
    "            model=model,\n",
    "            input=batch_texts\n",
    "        )\n",
    "        \n",
    "        for embedding in embeddings_batch_response.data:\n",
    "            yield embedding.embedding"
   ]
  },
  {
   "cell_type": "code",
   "execution_count": 13,
   "id": "3d6d5066",
   "metadata": {},
   "outputs": [
    {
     "name": "stdout",
     "output_type": "stream",
     "text": [
      "5371 of 5371 documents embedded!\n"
     ]
    }
   ],
   "source": [
    "summaries = [article[\"Summary\"] for article in chunked_mediplus_docs]\n",
    "embeddings = list(batch_embed_mistral(summaries))\n",
    "print(len(embeddings), \"of\", len(chunked_mediplus_docs), \"documents embedded!\")"
   ]
  },
  {
   "cell_type": "code",
   "execution_count": 14,
   "id": "8708ee1b",
   "metadata": {},
   "outputs": [
    {
     "data": {
      "text/plain": [
       "{'Title': 'Carbohydrates',\n",
       " 'Summary': '* When eating grains, choose mostly whole grains and not refined grains: \\n    * Whole grains are foods like whole-wheat bread, brown rice, whole cornmeal, and oatmeal. They offer lots of nutrients that your body needs, like vitamins, minerals, and fiber. To figure out whether a product has a lot of whole grain, check the ingredients list on the package and see if a whole grain is one of the first few items listed.',\n",
       " 'Alternate Names': ['Carbs'],\n",
       " 'Groups': ['Food and Nutrition'],\n",
       " 'Related Topics': ['Carbohydrate Metabolism Disorders',\n",
       "  'Diabetic Diet',\n",
       "  'Dietary Fiber',\n",
       "  'Dietary Proteins',\n",
       "  'Nutrition'],\n",
       " 'Chunk Index': 7}"
      ]
     },
     "execution_count": 14,
     "metadata": {},
     "output_type": "execute_result"
    }
   ],
   "source": [
    "chunked_mediplus_docs[800]"
   ]
  },
  {
   "attachments": {},
   "cell_type": "markdown",
   "id": "cbebd5d9",
   "metadata": {},
   "source": [
    "### Upsert embeddings"
   ]
  },
  {
   "cell_type": "code",
   "execution_count": 15,
   "id": "5f956525",
   "metadata": {},
   "outputs": [],
   "source": [
    "def upsert_embeddings(index_name, articles, embeddings):\n",
    "    def chunks(iterable, size):\n",
    "        it = iter(iterable)\n",
    "        for chunk in iter(lambda: tuple(itertools.islice(it, size)), ()):\n",
    "            yield chunk\n",
    "    \n",
    "    index = pc.Index(index_name)\n",
    "    \n",
    "    # Prepare data for upserting: include embedding and adjust metadata\n",
    "    upsert_data = []\n",
    "    for i, (article, embedding) in enumerate(zip(articles, embeddings)):\n",
    "        upsert_doc = article.copy()\n",
    "        upsert_doc[\"text\"] = upsert_doc.pop(\"Summary\")  \n",
    "        upsert_data.append({\n",
    "            \"id\": f'id-{i}',\n",
    "            \"vector\": embedding,\n",
    "            \"metadata\": upsert_doc  \n",
    "        })\n",
    "    \n",
    "    # Batch upsert the data into Pinecone\n",
    "    for chunk in chunks(upsert_data, 100):\n",
    "        vectors_with_metadata = [(item[\"id\"], item[\"vector\"], item[\"metadata\"]) for item in chunk]\n",
    "        index.upsert(vectors=vectors_with_metadata)"
   ]
  },
  {
   "cell_type": "code",
   "execution_count": 16,
   "id": "67e36c1f",
   "metadata": {},
   "outputs": [],
   "source": [
    "upsert_embeddings(INDEX_NAME, chunked_mediplus_docs, embeddings)"
   ]
  },
  {
   "attachments": {},
   "cell_type": "markdown",
   "id": "0631665b",
   "metadata": {},
   "source": [
    "### Evaluate"
   ]
  },
  {
   "cell_type": "code",
   "execution_count": 20,
   "id": "fd7ab6b2",
   "metadata": {},
   "outputs": [],
   "source": [
    "from langchain_pinecone import PineconeVectorStore\n",
    "vectorstore = PineconeVectorStore(index_name=INDEX_NAME, embedding=embeddings)\n",
    "index = pc.Index(INDEX_NAME)\n",
    "\n",
    "def get_embedding(text):\n",
    "   text = text.replace(\"\\n\", \" \")\n",
    "   return mistral_client.embeddings(\n",
    "      model=\"mistral-embed\",\n",
    "      input=[text],\n",
    "   ).data[0].embedding"
   ]
  },
  {
   "cell_type": "code",
   "execution_count": 23,
   "id": "c76b946d",
   "metadata": {},
   "outputs": [],
   "source": [
    "question = \"What is Leukemia?\""
   ]
  },
  {
   "cell_type": "code",
   "execution_count": 24,
   "id": "00d7eecd",
   "metadata": {},
   "outputs": [
    {
     "data": {
      "text/plain": [
       "{'matches': [{'id': 'id-3139',\n",
       "              'metadata': {'Alternate Names': ['None'],\n",
       "                           'Chunk Index': 0.0,\n",
       "                           'Groups': ['Cancers',\n",
       "                                      'Blood, Heart and Circulation'],\n",
       "                           'Related Topics': ['Acute Lymphocytic Leukemia',\n",
       "                                              'Acute Myeloid Leukemia',\n",
       "                                              'Childhood Leukemia',\n",
       "                                              'Chronic Lymphocytic Leukemia',\n",
       "                                              'Chronic Myeloid Leukemia'],\n",
       "                           'Title': 'Leukemia',\n",
       "                           'text': '### What is leukemia?\\n'\n",
       "                                   '\\n'\n",
       "                                   'Leukemia is a term for cancers of the '\n",
       "                                   'blood cells. Leukemia starts in blood-\\n'\n",
       "                                   'forming tissues such as the bone marrow. '\n",
       "                                   'Your bone marrow makes the cells\\n'\n",
       "                                   'which will develop into white blood cells, '\n",
       "                                   'red blood cells, and platelets.\\n'\n",
       "                                   'Each type of cell has a different job:\\n'\n",
       "                                   '\\n'\n",
       "                                   '  * White blood cells help your body fight '\n",
       "                                   'infection\\n'\n",
       "                                   '  * Red blood cells deliver oxygen from '\n",
       "                                   'your lungs to your tissues and organs\\n'\n",
       "                                   '  * Platelets help form clots to stop '\n",
       "                                   'bleeding'},\n",
       "              'score': 0.882737935,\n",
       "              'values': []},\n",
       "             {'id': 'id-44',\n",
       "              'metadata': {'Alternate Names': ['AML',\n",
       "                                               'ANLL',\n",
       "                                               'Acute myelogenous leukemia'],\n",
       "                           'Chunk Index': 0.0,\n",
       "                           'Groups': ['Cancers',\n",
       "                                      'Blood, Heart and Circulation'],\n",
       "                           'Related Topics': ['Acute Lymphocytic Leukemia',\n",
       "                                              'Childhood Leukemia',\n",
       "                                              'Chronic Lymphocytic Leukemia',\n",
       "                                              'Chronic Myeloid Leukemia',\n",
       "                                              'Leukemia'],\n",
       "                           'Title': 'Acute Myeloid Leukemia',\n",
       "                           'text': '### What is leukemia?\\n'\n",
       "                                   '\\n'\n",
       "                                   'Leukemia is a term for cancers of the '\n",
       "                                   'blood cells. Leukemia starts in blood-\\n'\n",
       "                                   'forming tissues such as the bone marrow. '\n",
       "                                   'Your bone marrow makes the cells\\n'\n",
       "                                   'which will develop into white blood cells, '\n",
       "                                   'red blood cells, and platelets.\\n'\n",
       "                                   'Each type of cell has a different job:\\n'\n",
       "                                   '\\n'\n",
       "                                   '  * White blood cells help your body fight '\n",
       "                                   'infection\\n'\n",
       "                                   '  * Red blood cells deliver oxygen from '\n",
       "                                   'your lungs to your tissues and organs\\n'\n",
       "                                   '  * Platelets help form clots to stop '\n",
       "                                   'bleeding'},\n",
       "              'score': 0.882737935,\n",
       "              'values': []},\n",
       "             {'id': 'id-972',\n",
       "              'metadata': {'Alternate Names': ['None'],\n",
       "                           'Chunk Index': 0.0,\n",
       "                           'Groups': ['Cancers',\n",
       "                                      'Children and Teenagers',\n",
       "                                      'Blood, Heart and Circulation',\n",
       "                                      'Immune System'],\n",
       "                           'Related Topics': ['Acute Lymphocytic Leukemia',\n",
       "                                              'Acute Myeloid Leukemia',\n",
       "                                              'Chronic Lymphocytic Leukemia',\n",
       "                                              'Chronic Myeloid Leukemia',\n",
       "                                              'Leukemia'],\n",
       "                           'Title': 'Childhood Leukemia',\n",
       "                           'text': '### What is leukemia?\\n'\n",
       "                                   '\\n'\n",
       "                                   'Leukemia is a term for cancers of the '\n",
       "                                   'blood cells. Leukemia starts in blood-\\n'\n",
       "                                   'forming tissues such as the bone marrow. '\n",
       "                                   'Your bone marrow makes the cells\\n'\n",
       "                                   'which will develop into white blood cells, '\n",
       "                                   'red blood cells, and platelets.\\n'\n",
       "                                   'Each type of cell has a different job:\\n'\n",
       "                                   '\\n'\n",
       "                                   '  * White blood cells help your body fight '\n",
       "                                   'infection\\n'\n",
       "                                   '  * Red blood cells deliver oxygen from '\n",
       "                                   'your lungs to your tissues and organs\\n'\n",
       "                                   '  * Platelets help form clots to stop '\n",
       "                                   'bleeding'},\n",
       "              'score': 0.882737935,\n",
       "              'values': []}],\n",
       " 'namespace': '',\n",
       " 'usage': {'read_units': 6}}"
      ]
     },
     "execution_count": 24,
     "metadata": {},
     "output_type": "execute_result"
    }
   ],
   "source": [
    "index.query(\n",
    "  vector=get_embedding(question),\n",
    "  top_k=3,\n",
    "  include_values=False,\n",
    "  include_metadata=True\n",
    ")"
   ]
  }
 ],
 "metadata": {
  "kernelspec": {
   "display_name": "masters-project",
   "language": "python",
   "name": "python3"
  },
  "language_info": {
   "codemirror_mode": {
    "name": "ipython",
    "version": 3
   },
   "file_extension": ".py",
   "mimetype": "text/x-python",
   "name": "python",
   "nbconvert_exporter": "python",
   "pygments_lexer": "ipython3",
   "version": "3.11.8"
  }
 },
 "nbformat": 4,
 "nbformat_minor": 5
}
